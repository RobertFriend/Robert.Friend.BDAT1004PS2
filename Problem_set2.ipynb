{
 "cells": [
  {
   "cell_type": "markdown",
   "id": "b14edf44",
   "metadata": {},
   "source": [
    "# Problem Set 2 - Robert Friend"
   ]
  },
  {
   "cell_type": "markdown",
   "id": "431c382e",
   "metadata": {},
   "source": [
    "# Question 1 \n",
    "Consider the following Python module:\n",
    "a = 0 \n",
    "def b():\n",
    "global a\n",
    "a = c(a)\n",
    "def c(a):\n",
    "return a + 2\n",
    "After importing the module into the interpreter, you execute:\n",
    "\n",
    ">>> b()\n",
    ">>> b()\n",
    ">>> b()\n",
    ">>> a\n",
    "?\n",
    "\n",
    "What value is displayed when the last expression (a) is evaluated? Explain your answer by indicating what happens in every executed statement."
   ]
  },
  {
   "cell_type": "code",
   "execution_count": 15,
   "id": "c7aa9a65",
   "metadata": {},
   "outputs": [
    {
     "name": "stdout",
     "output_type": "stream",
     "text": [
      "6\n"
     ]
    }
   ],
   "source": [
    "a = 0\n",
    "def b():\n",
    "    global a\n",
    "    a=c(a)\n",
    "    \n",
    "def c(a):\n",
    "    return a+2\n",
    "b()\n",
    "b()\n",
    "b()\n",
    "print(a)\n",
    "\n",
    "# 6 is displayed when expression a is evaluated because when b() is called each b() is also calling to c() which is reutning a+2. So with each b() we then add 2 to 0 three times.\n"
   ]
  },
  {
   "cell_type": "markdown",
   "id": "95831523",
   "metadata": {},
   "source": [
    "# Question 2\n",
    "Function fileLength(), given to you, takes the name of a file as input and returns \n",
    "the length of the file:\n",
    "\n",
    "fileLength('midterm.py') \n",
    "284\n",
    "fileLength('idterm.py')\n",
    "Traceback (most recent call last):\n",
    "File \"<pyshell#34>\", line 1, in <module> \n",
    "fileLength('idterm.py')\n",
    "File \"/Users/me/midterm.py\", line 3, in fileLength \n",
    "infile = open(filename)\n",
    "FileNotFoundError: [Errno 2] No such file or directory: \n",
    "'idterm.py'\n",
    "\n",
    "As shown above, if the file cannot be found by the interpreter or if it cannot be read \n",
    "as a text file, an exception will be raised. Modify function fileLength() so that a \n",
    "friendly message is printed instead:\n",
    "    \n",
    "fileLength('midterm.py') \n",
    "358\n",
    "fileLength('idterm.py') \n",
    "File idterm.py not found.\n"
   ]
  },
  {
   "cell_type": "code",
   "execution_count": 17,
   "id": "836504ae",
   "metadata": {},
   "outputs": [
    {
     "name": "stdout",
     "output_type": "stream",
     "text": [
      "589\n",
      "File idterm.py not found\n"
     ]
    }
   ],
   "source": [
    "def fileLength(filename):\n",
    "    try:\n",
    "        infile = open(filename)\n",
    "        strnum = infile.read()\n",
    "        len(strnum)\n",
    "        print(len(strnum))\n",
    "    except: \n",
    "        print('File idterm.py not found')\n",
    "\n",
    "fileLength('midterm.py') \n",
    "fileLength('idterm.py') \n",
    "\n",
    "# Week 5 lecture,      "
   ]
  },
  {
   "cell_type": "markdown",
   "id": "724578ed",
   "metadata": {},
   "source": [
    "# Question 3\n",
    "\n",
    "Write a class named Marsupial that can be used as shown below:\n",
    "\n",
    "m = Marsupial()\n",
    "m.put_in_pouch('doll')\n",
    "m.put_in_pouch('firetruck')\n",
    "m.put_in_pouch('kitten')\n",
    "m.pouch_contents() \n",
    "['doll', 'firetruck', 'kitten']\n",
    "\n",
    "Now write a class named Kangaroo as a subclass of Marsupial that inherits all the \n",
    "attributes of Marsupial and also:\n",
    "    \n",
    "    a. extends the Marsupial __init__ constructor to take, as input, the\n",
    "coordinates x and y of the Kangaroo object,\n",
    "    \n",
    "    b. supports method jump that takes number values dx and dy as input and \n",
    "moves the kangaroo by dx units along the x-axis and by dy units along the y\u0002axis, and\n",
    "    \n",
    "    c. overloads the __str__ operator so it behaves as shown below\n",
    "\n"
   ]
  },
  {
   "cell_type": "code",
   "execution_count": 1,
   "id": "a419204b",
   "metadata": {},
   "outputs": [],
   "source": [
    "# Week 5 lecture Overloaded Constructor also be sure to utilize inheritence (also week 5)\n",
    "\n",
    "class Marsupial:\n",
    "    t = []\n",
    "    def __init__(self):\n",
    "            self = []\n",
    "    def put_in_pouch(self,stuff):\n",
    "        if stuff not in self.t:\n",
    "            self.t.append(stuff)\n",
    "        else:\n",
    "            return\n",
    "    def pouch_contents(self):\n",
    "            return (self.t)"
   ]
  },
  {
   "cell_type": "code",
   "execution_count": 2,
   "id": "93533eb1",
   "metadata": {},
   "outputs": [
    {
     "data": {
      "text/plain": [
       "['doll', 'firetruck', 'kitten']"
      ]
     },
     "execution_count": 2,
     "metadata": {},
     "output_type": "execute_result"
    }
   ],
   "source": [
    "m = Marsupial()\n",
    "m.put_in_pouch(\"doll\")\n",
    "m.put_in_pouch(\"firetruck\")\n",
    "m.put_in_pouch(\"kitten\")\n",
    "m.pouch_contents()"
   ]
  },
  {
   "cell_type": "code",
   "execution_count": 3,
   "id": "90917d0a",
   "metadata": {},
   "outputs": [],
   "source": [
    "# Kangaroo a, b and c\n",
    "\n",
    "class Kangaroo(Marsupial):\n",
    "   \n",
    "    def __init__(self, xcoord=0, ycoord=0):\n",
    "        'initialize coordinates to (xcoord, ycoord)'\n",
    "        self.x = xcoord\n",
    "        self.y = ycoord\n",
    "        \n",
    "    def __str__(self):\n",
    "        return('I am a Kangaroo located at coordinates ({}, {})'.format(self.x,self.y))\n",
    "    #{} providing a placeholder for the self.x and self.y\n",
    "    \n",
    "    def setx(self, xcoord):\n",
    "        'set x coordinate of point to xcoord'\n",
    "        self.x = xcoord\n",
    "\n",
    "    def sety(self, ycoord):\n",
    "        'set y coordinate of point to ycoord'\n",
    "        self.y = ycoord\n",
    "\n",
    "    def get(self):\n",
    "        'return coordinates of the point as a tuple'\n",
    "        return (self.x, self.y)\n",
    "\n",
    "    def jump(self, dx, dy):\n",
    "        'change the x and y coordinates by dx and dy'\n",
    "        self.x += dx\n",
    "        self.y += dy  \n",
    "\n",
    "#print string using format"
   ]
  },
  {
   "cell_type": "code",
   "execution_count": 4,
   "id": "0f7e9637",
   "metadata": {},
   "outputs": [
    {
     "name": "stdout",
     "output_type": "stream",
     "text": [
      "I am a Kangaroo located at coordinates (0, 0)\n"
     ]
    }
   ],
   "source": [
    "k = Kangaroo(0,0)\n",
    "print(k)"
   ]
  },
  {
   "cell_type": "code",
   "execution_count": 5,
   "id": "d68557a0",
   "metadata": {},
   "outputs": [
    {
     "data": {
      "text/plain": [
       "['doll', 'firetruck', 'kitten']"
      ]
     },
     "execution_count": 5,
     "metadata": {},
     "output_type": "execute_result"
    }
   ],
   "source": [
    "m.put_in_pouch(\"doll\")\n",
    "m.put_in_pouch(\"firetruck\")\n",
    "m.put_in_pouch(\"kitten\")\n",
    "m.pouch_contents()"
   ]
  },
  {
   "cell_type": "code",
   "execution_count": 6,
   "id": "76810cbd",
   "metadata": {},
   "outputs": [],
   "source": [
    "k.jump(1,0)\n",
    "k.jump(1,0)\n",
    "k.jump(1,0)"
   ]
  },
  {
   "cell_type": "code",
   "execution_count": 7,
   "id": "816207de",
   "metadata": {},
   "outputs": [
    {
     "name": "stdout",
     "output_type": "stream",
     "text": [
      "I am a Kangaroo located at coordinates (3, 0)\n"
     ]
    }
   ],
   "source": [
    "print(k)"
   ]
  },
  {
   "cell_type": "markdown",
   "id": "1b2ea22d",
   "metadata": {},
   "source": [
    "# Question 4\n",
    "\n",
    "Write function collatz() that takes a positive integer x as input and prints the \n",
    "Collatz sequence starting at x. A Collatz sequence is obtained by repeatedly applying \n",
    "this rule to the previous number x in the sequence:\n",
    "\n",
    "x = {\n",
    "𝑥/2 𝑖𝑓 𝑥 𝑖𝑠 𝑒𝑣𝑒𝑛3𝑥\n",
    "+1 𝑖𝑓 𝑥 𝑖𝑠 𝑜𝑑𝑑\n",
    "\n",
    "Your function should stop when the sequence gets to number 1. Your \n",
    "implementation must be recursive, without any loops.\n",
    "\n",
    "collatz(1) \n",
    "\n",
    "1\n",
    "\n",
    "collatz(10) \n",
    "\n",
    "10\n",
    "5\n",
    "16\n",
    "8\n",
    "4\n",
    "2\n",
    "1"
   ]
  },
  {
   "cell_type": "code",
   "execution_count": 53,
   "id": "ee8f4f4c",
   "metadata": {},
   "outputs": [],
   "source": [
    "#recursive is a function one that calls itself (def countdown(n): print(n) countdown(n-1) countdown(3))\n",
    "\n",
    "def collatz(n):\n",
    "    print(n)\n",
    "    if (n == 1):\n",
    "        return n\n",
    "    if (n%2==0):\n",
    "        return (collatz(n//2)) #when defining any method use return and not print\n",
    "    else:\n",
    "        return(collatz((3*n)+1))\n"
   ]
  },
  {
   "cell_type": "code",
   "execution_count": 54,
   "id": "6d002d13",
   "metadata": {},
   "outputs": [
    {
     "name": "stdout",
     "output_type": "stream",
     "text": [
      "1\n"
     ]
    },
    {
     "data": {
      "text/plain": [
       "1"
      ]
     },
     "execution_count": 54,
     "metadata": {},
     "output_type": "execute_result"
    }
   ],
   "source": [
    "collatz(1)"
   ]
  },
  {
   "cell_type": "code",
   "execution_count": 55,
   "id": "69ea9892",
   "metadata": {},
   "outputs": [
    {
     "name": "stdout",
     "output_type": "stream",
     "text": [
      "10\n",
      "5\n",
      "16\n",
      "8\n",
      "4\n",
      "2\n",
      "1\n"
     ]
    },
    {
     "data": {
      "text/plain": [
       "1"
      ]
     },
     "execution_count": 55,
     "metadata": {},
     "output_type": "execute_result"
    }
   ],
   "source": [
    "collatz(10)"
   ]
  },
  {
   "cell_type": "markdown",
   "id": "896c4af0",
   "metadata": {},
   "source": [
    "# Question 5\n",
    "\n",
    "Write a recursive method binary() that takes a non-negative \n",
    "integer n and prints the binary representation of integer n.\n"
   ]
  },
  {
   "cell_type": "code",
   "execution_count": 56,
   "id": "9087b1a5",
   "metadata": {},
   "outputs": [],
   "source": [
    "def binary(n):\n",
    "    print(n%2) #% represents remainder\n",
    "    if (n>1):\n",
    "        return (binary(n//2)) # double backslash changes formatting to int instead float"
   ]
  },
  {
   "cell_type": "code",
   "execution_count": 57,
   "id": "61a279dd",
   "metadata": {},
   "outputs": [
    {
     "name": "stdout",
     "output_type": "stream",
     "text": [
      "0\n"
     ]
    }
   ],
   "source": [
    "binary(0)"
   ]
  },
  {
   "cell_type": "code",
   "execution_count": 58,
   "id": "4ca92396",
   "metadata": {},
   "outputs": [
    {
     "name": "stdout",
     "output_type": "stream",
     "text": [
      "1\n"
     ]
    }
   ],
   "source": [
    "binary(1)"
   ]
  },
  {
   "cell_type": "code",
   "execution_count": 59,
   "id": "02691e20",
   "metadata": {},
   "outputs": [
    {
     "name": "stdout",
     "output_type": "stream",
     "text": [
      "1\n",
      "1\n"
     ]
    }
   ],
   "source": [
    "binary(3)"
   ]
  },
  {
   "cell_type": "code",
   "execution_count": 60,
   "id": "b17f636b",
   "metadata": {},
   "outputs": [
    {
     "name": "stdout",
     "output_type": "stream",
     "text": [
      "1\n",
      "0\n",
      "0\n",
      "1\n"
     ]
    }
   ],
   "source": [
    "binary(9)"
   ]
  },
  {
   "cell_type": "markdown",
   "id": "11343a94",
   "metadata": {},
   "source": [
    "# Question 6\n",
    "\n",
    "Implement a class named HeadingParser that can be used to parse an HTML \n",
    "document, and retrieve and print all the headings in the document. You should \n",
    "implement your class as a subclass of HTMLParser, defined in Standard Library \n",
    "module html.parser. When fed a string containing HTML code, your class should \n",
    "print the headings, one per line and in the order in which they appear in the \n",
    "document.Each heading should be indented asfollows: an h1 heading should have\n",
    "indentation 0, and h2 heading should have indentation 1, etc. Test your \n",
    "implementation using w3c.html."
   ]
  },
  {
   "cell_type": "code",
   "execution_count": 10,
   "id": "46b18696",
   "metadata": {},
   "outputs": [],
   "source": [
    "#Review recording near the end of the lecture\n",
    "#cell number 4 HTML parser\n",
    "\n",
    "#for indentation you need to put a \\t in the print\n",
    "#create the handler inside the class\n",
    "from html.parser import HTMLParser \n",
    "class HeadingParser(HTMLParser):\n",
    "    a = ''\n",
    "    def handle_starttag(self, tag, attrs):\n",
    "        if tag == 'h1':\n",
    "            self.a = 'h1'\n",
    "        if tag == 'h2':\n",
    "            self.a = 'h2'\n",
    "            \n",
    "    def handle_data(self, data):\n",
    "        if self.a == 'h1':\n",
    "            print(data)\n",
    "        if self.a == 'h2':\n",
    "            print('\\t'+data)\n",
    "            \n",
    "    def handle_endtag(self,data):\n",
    "        if tag == 'h1' or tag == 'h2':\n",
    "            self.a = ''\n",
    "\n"
   ]
  },
  {
   "cell_type": "code",
   "execution_count": 11,
   "id": "711a76de",
   "metadata": {},
   "outputs": [],
   "source": [
    "infile = open('w3c.html') \n",
    "content = infile.read() \n",
    "infile.close()\n",
    "hp = HTMLParser()\n",
    "hp.feed(content)"
   ]
  },
  {
   "cell_type": "markdown",
   "id": "a8324b92",
   "metadata": {},
   "source": [
    "# Question 7\n",
    "\n",
    "#week 6 Prof. Ethan recording at the 55:43 Minute mark provides details surrounding this (Web Crawler)."
   ]
  },
  {
   "cell_type": "code",
   "execution_count": 137,
   "id": "fde08267",
   "metadata": {},
   "outputs": [
    {
     "name": "stdout",
     "output_type": "stream",
     "text": [
      "http://reed.cs.depaul.edu/lperkovic/test1.html\n",
      "\thttp://reed.cs.depaul.edu/lperkovic/test2.html\n",
      "\t\thttp://reed.cs.depaul.edu/lperkovic/test4.html\n",
      "\thttp://reed.cs.depaul.edu/lperkovic/test3.html\n",
      "\t\thttp://reed.cs.depaul.edu/lperkovic/test4.html\n"
     ]
    }
   ],
   "source": [
    "from urllib.parse import urljoin #used to fetch the data and standard for web crawler\n",
    "from html.parser import HTMLParser\n",
    "class Collector(HTMLParser):\n",
    "    'collects hyperlink URLs into a list'\n",
    "\n",
    "    def __init__(self, url):\n",
    "        'initializes parser, the url, and a list'\n",
    "        HTMLParser.__init__(self)\n",
    "        self.url = url\n",
    "        self.links = []\n",
    "\n",
    "    \n",
    "    def handle_starttag(self, tag, attrs):\n",
    "        'collects hyperlink URLs in their absolute format'\n",
    "        if tag == 'a':\n",
    "            for attr in attrs:\n",
    "                if attr[0] == 'href':\n",
    "                    # construct absolute URL\n",
    "                    absolute = urljoin(self.url, attr[1])\n",
    "                    if absolute[:4] == 'http': # collect HTTP URLs\n",
    "                        self.links.append(absolute)\n",
    "                        \n",
    "    def getLinks(self):\n",
    "        'returns hyperlinks URLs in their absolute format'\n",
    "        return self.links\n",
    "\n",
    "def webdir(url, depth, indent):\n",
    "    content = urlopen(url).read().decode()\n",
    "    collector = Collector(url)\n",
    "    collector.feed(content)\n",
    "    urls = collector.getLinks()\n",
    "    print(\"\\t\"*indent+\"{}\".format(url))\n",
    "    for link in urls:\n",
    "        webdir(link,depth-1,indent+1)\n",
    "        \n",
    "webdir('http://reed.cs.depaul.edu/lperkovic/test1.html',2,0)"
   ]
  },
  {
   "cell_type": "markdown",
   "id": "d83bb65c",
   "metadata": {},
   "source": [
    "# Question 8\n",
    "\n",
    "Write SQL queries on the below database table that return:"
   ]
  },
  {
   "cell_type": "code",
   "execution_count": 2,
   "id": "887bac37",
   "metadata": {},
   "outputs": [
    {
     "name": "stdout",
     "output_type": "stream",
     "text": [
      "Requirement already satisfied: ipython-sql in c:\\users\\grant\\anaconda3\\lib\\site-packages (0.4.1)\n",
      "Requirement already satisfied: sqlparse in c:\\users\\grant\\anaconda3\\lib\\site-packages (from ipython-sql) (0.4.2)\n",
      "Requirement already satisfied: sqlalchemy>=0.6.7 in c:\\users\\grant\\anaconda3\\lib\\site-packages (from ipython-sql) (1.4.32)\n",
      "Requirement already satisfied: prettytable<1 in c:\\users\\grant\\anaconda3\\lib\\site-packages (from ipython-sql) (0.7.2)\n",
      "Requirement already satisfied: ipython>=1.0 in c:\\users\\grant\\anaconda3\\lib\\site-packages (from ipython-sql) (8.2.0)\n",
      "Requirement already satisfied: six in c:\\users\\grant\\anaconda3\\lib\\site-packages (from ipython-sql) (1.16.0)\n",
      "Requirement already satisfied: ipython-genutils>=0.1.0 in c:\\users\\grant\\anaconda3\\lib\\site-packages (from ipython-sql) (0.2.0)\n",
      "Requirement already satisfied: jedi>=0.16 in c:\\users\\grant\\anaconda3\\lib\\site-packages (from ipython>=1.0->ipython-sql) (0.18.1)\n",
      "Requirement already satisfied: traitlets>=5 in c:\\users\\grant\\anaconda3\\lib\\site-packages (from ipython>=1.0->ipython-sql) (5.1.1)\n",
      "Requirement already satisfied: pygments>=2.4.0 in c:\\users\\grant\\anaconda3\\lib\\site-packages (from ipython>=1.0->ipython-sql) (2.11.2)\n",
      "Requirement already satisfied: matplotlib-inline in c:\\users\\grant\\anaconda3\\lib\\site-packages (from ipython>=1.0->ipython-sql) (0.1.2)\n",
      "Requirement already satisfied: decorator in c:\\users\\grant\\anaconda3\\lib\\site-packages (from ipython>=1.0->ipython-sql) (5.1.1)\n",
      "Requirement already satisfied: stack-data in c:\\users\\grant\\anaconda3\\lib\\site-packages (from ipython>=1.0->ipython-sql) (0.2.0)\n",
      "Requirement already satisfied: colorama in c:\\users\\grant\\anaconda3\\lib\\site-packages (from ipython>=1.0->ipython-sql) (0.4.4)\n",
      "Requirement already satisfied: setuptools>=18.5 in c:\\users\\grant\\anaconda3\\lib\\site-packages (from ipython>=1.0->ipython-sql) (61.2.0)\n",
      "Requirement already satisfied: pickleshare in c:\\users\\grant\\anaconda3\\lib\\site-packages (from ipython>=1.0->ipython-sql) (0.7.5)\n",
      "Requirement already satisfied: backcall in c:\\users\\grant\\anaconda3\\lib\\site-packages (from ipython>=1.0->ipython-sql) (0.2.0)\n",
      "Requirement already satisfied: prompt-toolkit!=3.0.0,!=3.0.1,<3.1.0,>=2.0.0 in c:\\users\\grant\\anaconda3\\lib\\site-packages (from ipython>=1.0->ipython-sql) (3.0.20)\n",
      "Requirement already satisfied: parso<0.9.0,>=0.8.0 in c:\\users\\grant\\anaconda3\\lib\\site-packages (from jedi>=0.16->ipython>=1.0->ipython-sql) (0.8.3)\n",
      "Requirement already satisfied: wcwidth in c:\\users\\grant\\anaconda3\\lib\\site-packages (from prompt-toolkit!=3.0.0,!=3.0.1,<3.1.0,>=2.0.0->ipython>=1.0->ipython-sql) (0.2.5)\n",
      "Requirement already satisfied: greenlet!=0.4.17 in c:\\users\\grant\\anaconda3\\lib\\site-packages (from sqlalchemy>=0.6.7->ipython-sql) (1.1.1)\n",
      "Requirement already satisfied: asttokens in c:\\users\\grant\\anaconda3\\lib\\site-packages (from stack-data->ipython>=1.0->ipython-sql) (2.0.5)\n",
      "Requirement already satisfied: executing in c:\\users\\grant\\anaconda3\\lib\\site-packages (from stack-data->ipython>=1.0->ipython-sql) (0.8.3)\n",
      "Requirement already satisfied: pure-eval in c:\\users\\grant\\anaconda3\\lib\\site-packages (from stack-data->ipython>=1.0->ipython-sql) (0.2.2)\n"
     ]
    }
   ],
   "source": [
    " !pip install ipython-sql"
   ]
  },
  {
   "cell_type": "code",
   "execution_count": 86,
   "id": "0f12fcea",
   "metadata": {},
   "outputs": [
    {
     "data": {
      "text/plain": [
       "<sqlite3.Cursor at 0x137fb1ca180>"
      ]
     },
     "execution_count": 86,
     "metadata": {},
     "output_type": "execute_result"
    }
   ],
   "source": [
    "# Crate Table\n",
    "\n",
    "import sqlite3\n",
    "con = sqlite3.connect('DB8.db')\n",
    "cur = con.cursor()\n",
    "cur.execute(\"CREATE TABLE H (City text, Country text, Season text, Temp float, Rainfall float)\")\n",
    "cur.execute(\"INSERT INTO H (City, Country, Season, Temp, Rainfall) VALUES ('Mumbai','India','Winter',24.8,5.9),('Mumbai','India','Spring',28.4,16.2),('Mumbai','India','Summer',27.9,1549.4),('Mumbai','India','Fall',27.6,346),('London','United Kingdom','Winter',4.2,207.7),('London','United Kingdom','Spring',8.3,169.6),('London','United Kingdom','Summer',15.7,157),('London','United Kingdom','Fall',10.4,218.5),('Cairo','Egypt','Winter',13.6,16.5),('Cairo','Egypt','Spring',20.7,6.5),('Cairo','Egypt','Summer',27.7,0.1),('Cairo','Egypt','Fall',22.2,4.5)\")\n",
    "#cur.commit()"
   ]
  },
  {
   "cell_type": "code",
   "execution_count": 91,
   "id": "bdfed373",
   "metadata": {},
   "outputs": [
    {
     "data": {
      "text/plain": [
       "[(24.8,),\n",
       " (28.4,),\n",
       " (27.9,),\n",
       " (27.6,),\n",
       " (4.2,),\n",
       " (8.3,),\n",
       " (15.7,),\n",
       " (10.4,),\n",
       " (13.6,),\n",
       " (20.7,),\n",
       " (27.7,),\n",
       " (22.2,)]"
      ]
     },
     "execution_count": 91,
     "metadata": {},
     "output_type": "execute_result"
    }
   ],
   "source": [
    "#a all temp data, cur.fetchall\n",
    "cur.execute('SELECT TEMP FROM H')\n",
    "cur.fetchall()"
   ]
  },
  {
   "cell_type": "code",
   "execution_count": 92,
   "id": "c7f79933",
   "metadata": {},
   "outputs": [
    {
     "data": {
      "text/plain": [
       "[('Mumbai',), ('London',), ('Cairo',)]"
      ]
     },
     "execution_count": 92,
     "metadata": {},
     "output_type": "execute_result"
    }
   ],
   "source": [
    "# All the cities, but without repetition\n",
    "\n",
    "cur.execute('select distinct city from H')\n",
    "cur.fetchall()"
   ]
  },
  {
   "cell_type": "code",
   "execution_count": 96,
   "id": "6990fa19",
   "metadata": {},
   "outputs": [
    {
     "name": "stdout",
     "output_type": "stream",
     "text": [
      "[('Mumbai', 'India', 'Winter', 24.8, 5.9), ('Mumbai', 'India', 'Spring', 28.4, 16.2), ('Mumbai', 'India', 'Summer', 27.9, 1549.4), ('Mumbai', 'India', 'Fall', 27.6, 346.0)]\n"
     ]
    }
   ],
   "source": [
    "# All the records for India\n",
    "country = 'India'\n",
    "cur.execute('select * from H where country = ?',(country,))\n",
    "print(cur.fetchall())\n"
   ]
  },
  {
   "cell_type": "code",
   "execution_count": 97,
   "id": "1873432d",
   "metadata": {},
   "outputs": [
    {
     "name": "stdout",
     "output_type": "stream",
     "text": [
      "[('Mumbai', 'India', 'Winter', 24.8, 5.9), ('London', 'United Kingdom', 'Winter', 4.2, 207.7), ('Cairo', 'Egypt', 'Winter', 13.6, 16.5)]\n"
     ]
    }
   ],
   "source": [
    "# All the Fall records\n",
    "\n",
    "word = 'Winter'\n",
    "cur.execute('select * from H where season = ?',(word,))\n",
    "print(cur.fetchall())"
   ]
  },
  {
   "cell_type": "code",
   "execution_count": 99,
   "id": "e2a6ce2c",
   "metadata": {},
   "outputs": [
    {
     "name": "stdout",
     "output_type": "stream",
     "text": [
      "[('Mumbai', 'India', 'Fall'), ('London', 'United Kingdom', 'Winter'), ('London', 'United Kingdom', 'Fall')]\n"
     ]
    }
   ],
   "source": [
    "# e)\n",
    "a,b = 200,400\n",
    "cur.execute('select City, Country, season from H where rainfall between ? and ?',(a,b))\n",
    "print(cur.fetchall())"
   ]
  },
  {
   "cell_type": "code",
   "execution_count": 104,
   "id": "2c870b12",
   "metadata": {},
   "outputs": [
    {
     "name": "stdout",
     "output_type": "stream",
     "text": [
      "[('Mumbai', 'India'), ('Cairo', 'Egypt')]\n"
     ]
    }
   ],
   "source": [
    "# f)\n",
    "a,b = 'Fall',20\n",
    "cur.execute('select city, country from H where season = ? and temp > ? order by temp desc',(a,b))\n",
    "print(cur.fetchall())"
   ]
  },
  {
   "cell_type": "code",
   "execution_count": 133,
   "id": "e610589e",
   "metadata": {},
   "outputs": [
    {
     "name": "stdout",
     "output_type": "stream",
     "text": [
      "[(27.6,)]\n"
     ]
    }
   ],
   "source": [
    "# g)\n",
    "\n",
    "a = 'Cairo'\n",
    "cur.execute('select SUM(Rainfall) from H where City = ? group by City',(a,))\n",
    "print(cur.fetchall())"
   ]
  },
  {
   "cell_type": "code",
   "execution_count": 109,
   "id": "c57ea2e5",
   "metadata": {},
   "outputs": [
    {
     "data": {
      "text/plain": [
       "[('Fall', 569.0),\n",
       " ('Spring', 192.29999999999998),\n",
       " ('Summer', 1706.5),\n",
       " ('Winter', 230.1)]"
      ]
     },
     "execution_count": 109,
     "metadata": {},
     "output_type": "execute_result"
    }
   ],
   "source": [
    "# h)\n",
    "\n",
    "cur.execute('select Season, SUM(Rainfall) from H group by Season')\n",
    "cur.fetchall()"
   ]
  },
  {
   "cell_type": "markdown",
   "id": "bf5c95c6",
   "metadata": {},
   "source": [
    "# Question 9\n",
    "\n",
    "list comprehension"
   ]
  },
  {
   "cell_type": "code",
   "execution_count": 140,
   "id": "7141723d",
   "metadata": {},
   "outputs": [
    {
     "name": "stdout",
     "output_type": "stream",
     "text": [
      "['THE', 'QUICK', 'BROWN', 'FOX', 'JUMPS', 'OVER', 'THE', 'LAZY', 'DOG']\n",
      "['the', 'quick', 'brown', 'fox', 'jumps', 'over', 'the', 'lazy', 'dog']\n",
      "[3, 5, 5, 3, 5, 4, 3, 4, 3]\n"
     ]
    }
   ],
   "source": [
    "#List Comprehension week 6 prof. Ethan 1:13:26 mark\n",
    "\n",
    "words = ['the', 'quick','brown','fox','jumps','over','the','lazy','dog']\n",
    "\n",
    "#a\n",
    "caps_word = [x.upper() for x in words]\n",
    "print(caps_word)\n",
    "\n",
    "#b\n",
    "lower_words = [x.lower() for x in words]\n",
    "print (lower_words)\n",
    "\n",
    "#c\n",
    "length_words = [len(x) for x in words]\n",
    "print(length_words)\n",
    "\n"
   ]
  },
  {
   "cell_type": "code",
   "execution_count": 143,
   "id": "8576def4",
   "metadata": {},
   "outputs": [
    {
     "data": {
      "text/plain": [
       "[['THE', 'the', 3],\n",
       " ['QUICK', 'quick', 5],\n",
       " ['BROWN', 'brown', 5],\n",
       " ['FOX', 'fox', 3],\n",
       " ['JUMPS', 'jumps', 5],\n",
       " ['OVER', 'over', 4],\n",
       " ['THE', 'the', 3],\n",
       " ['LAZY', 'lazy', 4],\n",
       " ['DOG', 'dog', 3]]"
      ]
     },
     "execution_count": 143,
     "metadata": {},
     "output_type": "execute_result"
    }
   ],
   "source": [
    "#d\n",
    "words = ['the', 'quick','brown','fox','jumps','over','the','lazy','dog']\n",
    "new_words = [[x.upper(),x.lower(),len(x)] for x in words]\n",
    "new_words"
   ]
  },
  {
   "cell_type": "code",
   "execution_count": 144,
   "id": "10440167",
   "metadata": {},
   "outputs": [
    {
     "data": {
      "text/plain": [
       "['quick', 'brown', 'jumps', 'over', 'lazy']"
      ]
     },
     "execution_count": 144,
     "metadata": {},
     "output_type": "execute_result"
    }
   ],
   "source": [
    "#e\n",
    "words = ['the', 'quick','brown','fox','jumps','over','the','lazy','dog']\n",
    "four_words = [x for x in words if len(x) > 3]\n",
    "four_words"
   ]
  }
 ],
 "metadata": {
  "kernelspec": {
   "display_name": "Python 3 (ipykernel)",
   "language": "python",
   "name": "python3"
  },
  "language_info": {
   "codemirror_mode": {
    "name": "ipython",
    "version": 3
   },
   "file_extension": ".py",
   "mimetype": "text/x-python",
   "name": "python",
   "nbconvert_exporter": "python",
   "pygments_lexer": "ipython3",
   "version": "3.9.12"
  }
 },
 "nbformat": 4,
 "nbformat_minor": 5
}
